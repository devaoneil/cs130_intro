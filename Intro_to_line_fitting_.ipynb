{
  "cells": [
    {
      "cell_type": "markdown",
      "metadata": {
        "id": "view-in-github",
        "colab_type": "text"
      },
      "source": [
        "<a href=\"https://colab.research.google.com/github/devaoneil/cs130_intro/blob/main/Intro_to_line_fitting_.ipynb\" target=\"_parent\"><img src=\"https://colab.research.google.com/assets/colab-badge.svg\" alt=\"Open In Colab\"/></a>"
      ]
    },
    {
      "cell_type": "markdown",
      "metadata": {
        "id": "834t49zymVdO"
      },
      "source": [
        "# Line Fitting for CSCI 130\n",
        "\n",
        "---\n",
        "Today, we will take a scatterplot of data and determine how to fit a line to the data."
      ]
    },
    {
      "cell_type": "markdown",
      "metadata": {
        "id": "cHD_GOfjbX8L"
      },
      "source": [
        "First, let's import the tools that we will need:"
      ]
    },
    {
      "cell_type": "code",
      "execution_count": 2,
      "metadata": {
        "id": "3wtNHabcbX8N"
      },
      "outputs": [],
      "source": [
        "\n",
        "import numpy as np\n",
        "import matplotlib.pyplot as plt\n",
        "from scipy.stats import norm\n",
        "import scipy\n"
      ]
    },
    {
      "cell_type": "markdown",
      "metadata": {
        "id": "XJdAX7USbX8O"
      },
      "source": [
        "## Fitting\n",
        "\n",
        "Let's start by making a simple dataset.  We will use the example of an object falling, where the speed =  9.8*time. (The number 9.8 meters per second-squared is how quickly objects accelerate under the influence of gravity.) The object should speed up as it falls. This code should run, but will only give 5 data points.\n"
      ]
    },
    {
      "cell_type": "code",
      "execution_count": null,
      "metadata": {
        "id": "KZP1sDypbX8P"
      },
      "outputs": [],
      "source": [
        "x_data = np.linspace(0, 5, num=11)  #TODO: fix this to give 11 data points instead of 5 data points\n",
        "y_data = 9.8*x_data   #9.8 is the acceleration in meters per second-squared\n",
        "\n",
        "plt.figure()\n",
        "plt.scatter(x_data, y_data)\n",
        "plt.xlim(xmax = 12.0, xmin = 0)\n",
        "plt.xlabel(\"t (s)\")\n",
        "plt.ylabel(\"speed (m/s)\")"
      ]
    },
    {
      "cell_type": "markdown",
      "metadata": {
        "id": "GeC3z7hhbX8R"
      },
      "source": [
        "This is not realistic; data is never this perfect. Let's try to put in some measurement error. This will only work if you fixed the previous code to have 11 data points."
      ]
    },
    {
      "cell_type": "code",
      "execution_count": 6,
      "metadata": {
        "colab": {
          "base_uri": "https://localhost:8080/",
          "height": 467
        },
        "id": "RAYbBpmPbX8R",
        "outputId": "64409062-f282-4c31-e996-8d4afeb38458"
      },
      "outputs": [
        {
          "output_type": "execute_result",
          "data": {
            "text/plain": [
              "Text(0, 0.5, 'speed (m/s)')"
            ]
          },
          "metadata": {},
          "execution_count": 6
        },
        {
          "output_type": "display_data",
          "data": {
            "text/plain": [
              "<Figure size 640x480 with 1 Axes>"
            ],
            "image/png": "[encoded data removed]"
          },
          "metadata": {}
        }
      ],
      "source": [
        "# Seed the random number generator for reproducibility\n",
        "np.random.seed(2)\n",
        "\n",
        "#Here we are shifting our values by adding a random number\n",
        "y_data = 9.8*x_data*(1+np.random.normal(size=11)/5.0)\n",
        "\n",
        "\n",
        "# And plot it\n",
        "plt.figure()\n",
        "plt.scatter(x_data, y_data)\n",
        "plt.xlim(xmax = 12.0, xmin = 0)\n",
        "plt.xlabel(\"time (seconds)\")\n",
        "plt.ylabel(\"speed (m/s)\")\n"
      ]
    },
    {
      "cell_type": "markdown",
      "metadata": {
        "id": "CzQP7gtMbX8S"
      },
      "source": [
        "Let's see how we could fit it to a line and extract the best fit parameters.  For fitting in this class, we will start with the \"optimize\" method from the scipy."
      ]
    },
    {
      "cell_type": "markdown",
      "metadata": {
        "id": "RIgxwKx9bX8S"
      },
      "source": [
        "First, we also need to define our function.  Our data looks linear (y=ax+b), so let's try that first and see what we get.."
      ]
    },
    {
      "cell_type": "code",
      "execution_count": 8,
      "metadata": {
        "id": "8ciej3_pbX8T"
      },
      "outputs": [],
      "source": [
        "def linear(x, m, b):\n",
        "    return m*x+b"
      ]
    },
    {
      "cell_type": "markdown",
      "metadata": {
        "id": "spjswaRCbX8T"
      },
      "source": [
        "Here is the basic use of the \"optimize\" function:"
      ]
    },
    {
      "cell_type": "code",
      "execution_count": 15,
      "metadata": {
        "colab": {
          "base_uri": "https://localhost:8080/"
        },
        "id": "mUYT40R1bX8U",
        "outputId": "c85952b3-d2f0-4ff8-f988-c4f903d310ba"
      },
      "outputs": [
        {
          "output_type": "stream",
          "name": "stdout",
          "text": [
            "y =9.1837616 * x +(-1.8402254)\n"
          ]
        }
      ],
      "source": [
        "params, params_covariance = scipy.optimize.curve_fit(linear, x_data, y_data)\n",
        "slope = params[0]\n",
        "intercept = params[1]\n",
        "\n",
        "# TODO: fix this so it only uses 2 digits after the decimal point\n",
        "print('y ={:.7f} * x +({:.7f})'.format(slope,intercept)) #equation for a line is y = m x + b\n"
      ]
    },
    {
      "cell_type": "markdown",
      "metadata": {
        "id": "MFopSF2dbX8U"
      },
      "source": [
        "We got the best-fit parameters and put them into the equation for a line.  Let's plot the resulting best fit line on the data and see how it looks."
      ]
    },
    {
      "cell_type": "code",
      "execution_count": 17,
      "metadata": {
        "colab": {
          "base_uri": "https://localhost:8080/",
          "height": 467
        },
        "id": "Rmq_UCwvbX8U",
        "outputId": "37bcf179-648b-4a8e-d84f-55d67a90c0e4"
      },
      "outputs": [
        {
          "output_type": "execute_result",
          "data": {
            "text/plain": [
              "Text(0, 0.5, 'speed (m/s)')"
            ]
          },
          "metadata": {},
          "execution_count": 17
        },
        {
          "output_type": "display_data",
          "data": {
            "text/plain": [
              "<Figure size 640x480 with 1 Axes>"
            ],
            "image/png": "[encoded data removed]"
          },
          "metadata": {}
        }
      ],
      "source": [
        "plt.figure()\n",
        "plt.scatter(x_data, y_data, label='Data')\n",
        "plt.plot(x_data, linear(x_data, slope, intercept),label='Fitted function')\n",
        "\n",
        "plt.legend(loc='best')\n",
        "plt.xlabel(\"time (s)\")\n",
        "plt.ylabel(\"speed (m/s)\")"
      ]
    },
    {
      "cell_type": "markdown",
      "metadata": {
        "id": "zaqvrzJVbX8V"
      },
      "source": [
        "## EXERCISE:  \n",
        "In the space below, make a new function where you fix the y-intercept of your function to be zero.  That is, your new function will be a line with only one parameter - the slope (y = mx instead of y = mx + b).  Make this new function, and use it to fit the the data. I've copied the old code below so you can see what things you need to change."
      ]
    },
    {
      "cell_type": "code",
      "execution_count": null,
      "metadata": {
        "id": "PSbyh9ntbX8V"
      },
      "outputs": [],
      "source": [
        "# TODO: Change the name of this function to linear_no_intercept, and\n",
        "# change the number of inputs to be only two inputs. Remove the intercept (b).\n",
        "\n",
        "def linear(x, m, b):\n",
        "    return m*x+b"
      ]
    },
    {
      "cell_type": "code",
      "source": [
        "#TODO: change this code to remove the intercept parts.\n",
        "params, params_covariance = scipy.optimize.curve_fit(linear, x_data, y_data)\n",
        "slope = params[0]\n",
        "intercept = params[1]\n",
        "\n",
        "print('y ={:.2f} * x +({:.2f})'.format(slope,intercept)) #TODO: change this to y = m x\n",
        "\n",
        "plt.figure()\n",
        "plt.scatter(x_data, y_data, label='Data')\n",
        "\n",
        "#change this to use your new function, which has a different name and different number of inputs\n",
        "plt.plot(x_data, linear(x_data, slope, intercept),label='Fitted function')\n",
        "\n",
        "plt.legend(loc='best')\n",
        "plt.xlabel(\"time (s)\")\n",
        "plt.ylabel(\"speed (m/s)\")"
      ],
      "metadata": {
        "id": "LSJHPjYihtk-"
      },
      "execution_count": null,
      "outputs": []
    },
    {
      "cell_type": "markdown",
      "metadata": {
        "id": "PRIh134vbX8V"
      },
      "source": [
        "How did the value of the best fit slope change?  It should come closer to the input value of 9.8.\n",
        "\n",
        "By constraining the function used in the fit based on our knowledge, we got a better model of our data.  This is part of the game when trying to find the best model, and to extract parameters with small uncertainties."
      ]
    },
    {
      "cell_type": "markdown",
      "source": [
        "## EXERCISE 2:  \n",
        "Change the acceleration to be larger than 9.8 meters per second-squared in code chunk #2 (where you have y_data = 9.8*x_data). How do you expect this to change the slope of your line? Re-run your code to see if your prediction is correct.  "
      ],
      "metadata": {
        "id": "nrPOc8UmhKtW"
      }
    }
  ],
  "metadata": {
    "kernelspec": {
      "display_name": "Python 3 (ipykernel)",
      "language": "python",
      "name": "python3"
    },
    "language_info": {
      "codemirror_mode": {
        "name": "ipython",
        "version": 3
      },
      "file_extension": ".py",
      "mimetype": "text/x-python",
      "name": "python",
      "nbconvert_exporter": "python",
      "pygments_lexer": "ipython3",
      "version": "3.10.4"
    },
    "colab": {
      "provenance": [],
      "include_colab_link": true
    }
  },
  "nbformat": 4,
  "nbformat_minor": 0
}