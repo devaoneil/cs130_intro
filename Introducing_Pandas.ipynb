{
  "cells": [
    {
      "cell_type": "markdown",
      "metadata": {
        "id": "view-in-github",
        "colab_type": "text"
      },
      "source": [
        "<a href=\"https://colab.research.google.com/github/devaoneil/cs130_intro/blob/main/Introducing_Pandas.ipynb\" target=\"_parent\"><img src=\"https://colab.research.google.com/assets/colab-badge.svg\" alt=\"Open In Colab\"/></a>"
      ]
    },
    {
      "cell_type": "markdown",
      "metadata": {
        "id": "1NcvCTL93JSS"
      },
      "source": [
        "\n",
        "\n",
        "*This notebook is adapted from  [Python Data Science Handbook](http://shop.oreilly.com/product/0636920034919.do) by Jake VanderPlas; the original content is available [on GitHub](https://github.com/jakevdp/PythonDataScienceHandbook).*\n",
        "\n",
        "*The text is released under the [CC-BY-NC-ND license](https://creativecommons.org/licenses/by-nc-nd/3.0/us/legalcode), and code is released under the [MIT license](https://opensource.org/licenses/MIT)."
      ]
    },
    {
      "cell_type": "markdown",
      "metadata": {
        "id": "L6iwyBFN3JSV"
      },
      "source": [
        "# Introducing Pandas Objects"
      ]
    },
    {
      "cell_type": "markdown",
      "metadata": {
        "id": "ndr55rSB3JSW"
      },
      "source": [
        "At the very basic level, Pandas objects can be thought of as enhanced versions of NumPy structured arrays in which the rows and columns are identified with labels rather than simple integer indices.\n",
        "As we will see during the course of this chapter, Pandas provides a host of useful tools, methods, and functionality on top of the basic data structures, but nearly everything that follows will require an understanding of what these structures are.\n",
        "Thus, before we go any further, let's introduce these three fundamental Pandas data structures: the ``Series``, ``DataFrame``, and ``Index``.\n",
        "\n",
        "We will start our code sessions with the standard NumPy and Pandas imports:"
      ]
    },
    {
      "cell_type": "code",
      "execution_count": null,
      "metadata": {
        "collapsed": true,
        "id": "1f5RFNed3JSX"
      },
      "outputs": [],
      "source": [
        "import numpy as np\n",
        "import pandas as pd   #install this the usual way:   pip install pandas   or    pip3 install pandas     [MAC]"
      ]
    },
    {
      "cell_type": "markdown",
      "metadata": {
        "id": "aY0w8TvS3JSX"
      },
      "source": [
        "## The Pandas Series Object\n",
        "\n",
        "A Pandas ``Series`` is a one-dimensional array of indexed data.\n",
        "It can be created from a list or array as follows:"
      ]
    },
    {
      "cell_type": "code",
      "execution_count": null,
      "metadata": {
        "id": "LmU4CtEP3JSY"
      },
      "outputs": [],
      "source": [
        "data = pd.Series([0.25, 0.5, 0.75, 1.0])\n",
        "data"
      ]
    },
    {
      "cell_type": "markdown",
      "metadata": {
        "id": "yd2Y2tbT3JSY"
      },
      "source": [
        "As we see in the output, the ``Series`` wraps both a sequence of values and a sequence of indices, which we can access with the ``values`` and ``index`` attributes.\n",
        "The ``values`` are simply a familiar NumPy array:"
      ]
    },
    {
      "cell_type": "code",
      "execution_count": null,
      "metadata": {
        "id": "e8P5VVif3JSZ"
      },
      "outputs": [],
      "source": [
        "data.values"
      ]
    },
    {
      "cell_type": "markdown",
      "metadata": {
        "id": "mFllnsui3JSZ"
      },
      "source": [
        "The ``index`` is an array-like object of type ``pd.Index``, which we'll discuss in more detail momentarily."
      ]
    },
    {
      "cell_type": "code",
      "execution_count": null,
      "metadata": {
        "id": "SRERggCh3JSZ"
      },
      "outputs": [],
      "source": [
        "data.index"
      ]
    },
    {
      "cell_type": "markdown",
      "metadata": {
        "id": "XyAOduoR3JSa"
      },
      "source": [
        "Like with a NumPy array, data can be accessed by the associated index via the familiar Python square-bracket notation:"
      ]
    },
    {
      "cell_type": "code",
      "execution_count": null,
      "metadata": {
        "id": "CQ66AvOw3JSa"
      },
      "outputs": [],
      "source": [
        "data[1]"
      ]
    },
    {
      "cell_type": "code",
      "execution_count": null,
      "metadata": {
        "id": "0n8Y_L2u3JSa"
      },
      "outputs": [],
      "source": [
        "data[1:3]"
      ]
    },
    {
      "cell_type": "markdown",
      "metadata": {
        "id": "2gRyy4O13JSa"
      },
      "source": [
        "As we will see, though, the Pandas ``Series`` is much more general and flexible than the one-dimensional NumPy array that it emulates."
      ]
    },
    {
      "cell_type": "markdown",
      "metadata": {
        "id": "ppwnN2-w3JSa"
      },
      "source": [
        "### ``Series`` as generalized NumPy array"
      ]
    },
    {
      "cell_type": "markdown",
      "metadata": {
        "id": "9M_C-Zly3JSb"
      },
      "source": [
        "From what we've seen so far, it may look like the ``Series`` object is basically interchangeable with a one-dimensional NumPy array.\n",
        "The essential difference is the presence of the index: while the Numpy Array has an *implicitly defined* integer index used to access the values, the Pandas ``Series`` has an *explicitly defined* index associated with the values.\n",
        "\n",
        "This explicit index definition gives the ``Series`` object additional capabilities. For example, the index need not be an integer, but can consist of values of any desired type.\n",
        "For example, if we wish, we can use strings as an index:"
      ]
    },
    {
      "cell_type": "code",
      "execution_count": null,
      "metadata": {
        "id": "gJV3x3a03JSb"
      },
      "outputs": [],
      "source": [
        "data = pd.Series([0.25, 0.5, 0.75, 1.0], index=['a', 'b', 'c', 'd'])\n",
        "data"
      ]
    },
    {
      "cell_type": "markdown",
      "metadata": {
        "id": "F7boeBx33JSb"
      },
      "source": [
        "And the item access works as expected:"
      ]
    },
    {
      "cell_type": "code",
      "execution_count": null,
      "metadata": {
        "id": "6QCvmHmg3JSb"
      },
      "outputs": [],
      "source": [
        "data['b']"
      ]
    },
    {
      "cell_type": "markdown",
      "metadata": {
        "id": "mG72j_qPLGq7"
      },
      "source": [
        "## TASK:\n",
        "\n",
        "Create a dataframe with the following values:   100, 200, 300, 400\n",
        "Use indices that start counting at 1 instead of zero. The indices should be 1, 2, 3, 4."
      ]
    },
    {
      "cell_type": "code",
      "execution_count": null,
      "metadata": {
        "id": "YNhKl6voLGq8"
      },
      "outputs": [],
      "source": [
        "# code goes here"
      ]
    },
    {
      "cell_type": "markdown",
      "metadata": {
        "id": "FEWOVtFW3JSc"
      },
      "source": [
        "### Series as specialized dictionary\n",
        "\n",
        "In this way, you can think of a Pandas ``Series`` a bit like a specialization of a Python dictionary.\n",
        "A dictionary is a structure that maps arbitrary keys to a set of arbitrary values, and a ``Series`` is a structure which maps typed keys to a set of typed values.\n",
        "This typing is important: just as the type-specific compiled code behind a NumPy array makes it more efficient than a Python list for certain operations, the type information of a Pandas ``Series`` makes it much more efficient than Python dictionaries for certain operations.\n",
        "\n",
        "The ``Series``-as-dictionary analogy can be made even more clear by constructing a ``Series`` object directly from a Python dictionary:"
      ]
    },
    {
      "cell_type": "code",
      "execution_count": null,
      "metadata": {
        "id": "YtkaZYQS3JSc"
      },
      "outputs": [],
      "source": [
        "population_dict = {'California': 38332521,\n",
        "                   'Texas': 26448193,\n",
        "                   'New York': 19651127,\n",
        "                   'Florida': 19552860,\n",
        "                   'Illinois': 12882135}\n",
        "population = pd.Series(population_dict)\n",
        "population"
      ]
    },
    {
      "cell_type": "markdown",
      "metadata": {
        "id": "v-zYiA8g3JSc"
      },
      "source": [
        "By default, a ``Series`` will be created where the index is drawn from the sorted keys.\n",
        "From here, typical dictionary-style item access can be performed:"
      ]
    },
    {
      "cell_type": "code",
      "execution_count": null,
      "metadata": {
        "id": "P29Nhttm3JSc"
      },
      "outputs": [],
      "source": [
        "population['California']"
      ]
    },
    {
      "cell_type": "markdown",
      "metadata": {
        "id": "vQrJrqO13JSc"
      },
      "source": [
        "Unlike a dictionary, though, the ``Series`` also supports array-style operations such as slicing:"
      ]
    },
    {
      "cell_type": "code",
      "execution_count": null,
      "metadata": {
        "id": "WaQMqmUs3JSd"
      },
      "outputs": [],
      "source": [
        "population['California':'Illinois']"
      ]
    },
    {
      "cell_type": "markdown",
      "metadata": {
        "id": "DrjFzlMM3JSd"
      },
      "source": [
        "## TASK:\n",
        "\n",
        "Create a series with the following values:  'Andy' 'Bella' 'Carl' 'Dale' 'Elena' 'Fariel'\n",
        "\n",
        "Use indices that are the initials of each name ('A', 'B', etc).  \n",
        "\n",
        "Slice the Series from C to F so that you only show 4 rows."
      ]
    },
    {
      "cell_type": "code",
      "execution_count": null,
      "metadata": {
        "id": "L0ZlxCJrLGq_"
      },
      "outputs": [],
      "source": [
        "# Create a series with initials as indices.\n",
        "# YOUR CODE HERE\n",
        "\n",
        "\n",
        "\n",
        "# Slice the series from C to F so that you only show 4 rows.\n",
        "# YOUR CODE HERE."
      ]
    },
    {
      "cell_type": "markdown",
      "metadata": {
        "id": "I8o8ihcI3JSd"
      },
      "source": [
        "### Constructing Series objects\n",
        "\n",
        "We've already seen a few ways of constructing a Pandas ``Series`` from scratch; all of them are some version of the following:\n",
        "\n",
        "```python\n",
        ">>> pd.Series(data, index=index)\n",
        "```\n",
        "\n",
        "where ``index`` is an optional argument, and ``data`` can be one of many entities.\n",
        "\n",
        "For example, ``data`` can be a list or NumPy array, in which case ``index`` defaults to an integer sequence:"
      ]
    },
    {
      "cell_type": "code",
      "execution_count": null,
      "metadata": {
        "id": "0BYyendu3JSd"
      },
      "outputs": [],
      "source": [
        "pd.Series([2, 4, 6])"
      ]
    },
    {
      "cell_type": "markdown",
      "metadata": {
        "id": "X6bcgBGm3JSd"
      },
      "source": [
        "``data`` can be a scalar, which is repeated to fill the specified index:"
      ]
    },
    {
      "cell_type": "code",
      "execution_count": null,
      "metadata": {
        "id": "wNzI46en3JSd"
      },
      "outputs": [],
      "source": [
        "pd.Series(5, index=[100, 200, 300])"
      ]
    },
    {
      "cell_type": "markdown",
      "metadata": {
        "id": "1r3cZ2Bx3JSd"
      },
      "source": [
        "``data`` can be a dictionary, in which ``index`` defaults to the sorted dictionary keys:"
      ]
    },
    {
      "cell_type": "code",
      "execution_count": null,
      "metadata": {
        "id": "-SdCU3T13JSe"
      },
      "outputs": [],
      "source": [
        "pd.Series({2:'a', 1:'b', 3:'c'})"
      ]
    },
    {
      "cell_type": "markdown",
      "metadata": {
        "id": "sFdOmCJq3JSe"
      },
      "source": [
        "In each case, the index can be explicitly set if a different result is preferred:"
      ]
    },
    {
      "cell_type": "code",
      "execution_count": null,
      "metadata": {
        "id": "ee4dDsu13JSe"
      },
      "outputs": [],
      "source": [
        "pd.Series({2:'a', 1:'b', 3:'c'}, index=[3, 2])"
      ]
    },
    {
      "cell_type": "markdown",
      "metadata": {
        "id": "-A18-ZWb3JSe"
      },
      "source": [
        "Notice that in this case, the ``Series`` is populated only with the explicitly identified keys."
      ]
    },
    {
      "cell_type": "markdown",
      "metadata": {
        "id": "ijhdFovR3JSe"
      },
      "source": [
        "<H1>  The Pandas DataFrame Object </H1>"
      ]
    },
    {
      "cell_type": "markdown",
      "metadata": {
        "id": "9pkYAOkHLGrD"
      },
      "source": [
        "\n",
        "\n",
        "The next fundamental structure in Pandas is the ``DataFrame``.\n",
        "Like the ``Series`` object discussed in the previous section, the ``DataFrame`` can be thought of either as a generalization of a NumPy array, or as a specialization of a Python dictionary.\n",
        "We'll now take a look at each of these perspectives."
      ]
    },
    {
      "cell_type": "markdown",
      "metadata": {
        "id": "ZEROS-5p3JSe"
      },
      "source": [
        "### DataFrame as a generalized NumPy array\n",
        "If a ``Series`` is an analog of a one-dimensional array with flexible indices, a ``DataFrame`` is an analog of a two-dimensional array with both flexible row indices and flexible column names.\n",
        "Just as you might think of a two-dimensional array as an ordered sequence of aligned one-dimensional columns, you can think of a ``DataFrame`` as a sequence of aligned ``Series`` objects.\n",
        "Here, by \"aligned\" we mean that they share the same index.\n",
        "\n",
        "To demonstrate this, let's first construct a new ``Series`` listing the area of each of the five states discussed in the previous section:"
      ]
    },
    {
      "cell_type": "code",
      "execution_count": null,
      "metadata": {
        "id": "364MNkX_3JSe"
      },
      "outputs": [],
      "source": [
        "area_dict = {'California': 423967, 'Texas': 695662, 'New York': 141297,\n",
        "             'Florida': 170312, 'Illinois': 149995}\n",
        "area = pd.Series(area_dict)\n",
        "area"
      ]
    },
    {
      "cell_type": "markdown",
      "metadata": {
        "id": "beiarsgh3JSe"
      },
      "source": [
        "Now that we have this along with the ``population`` Series from before, we can use a dictionary to construct a single two-dimensional object containing this information:"
      ]
    },
    {
      "cell_type": "code",
      "execution_count": null,
      "metadata": {
        "id": "-ubybmKa3JSf"
      },
      "outputs": [],
      "source": [
        "states = pd.DataFrame({'population': population,'area': area})\n",
        "states"
      ]
    },
    {
      "cell_type": "markdown",
      "metadata": {
        "id": "fQ1E0TN-LGrF"
      },
      "source": [
        "## TASK\n",
        "Add another series to the states dataframe. Name the series 'abbreviation' and make the values equal to the abbreviation of the states: CA, FL, IL, NY, TX. Some starter code is below:\n"
      ]
    },
    {
      "cell_type": "code",
      "execution_count": null,
      "metadata": {
        "id": "aCOU1vj2LGrF"
      },
      "outputs": [],
      "source": [
        "abbreviation = #define the Series\n",
        "\n",
        "states = pd.DataFrame({'population': population,'area': area})  #modify this to include the new series\n",
        "states"
      ]
    },
    {
      "cell_type": "markdown",
      "metadata": {
        "id": "stXUL5_b3JSf"
      },
      "source": [
        "Like the ``Series`` object, the ``DataFrame`` has an ``index`` attribute that gives access to the index labels:"
      ]
    },
    {
      "cell_type": "code",
      "execution_count": null,
      "metadata": {
        "id": "NsRbXica3JSf"
      },
      "outputs": [],
      "source": [
        "states.index"
      ]
    },
    {
      "cell_type": "markdown",
      "metadata": {
        "id": "6IO4-ojx3JSf"
      },
      "source": [
        "Additionally, the ``DataFrame`` has a ``columns`` attribute, which is an ``Index`` object holding the column labels:"
      ]
    },
    {
      "cell_type": "code",
      "execution_count": null,
      "metadata": {
        "id": "kDFx6Dov3JSf"
      },
      "outputs": [],
      "source": [
        "states.columns"
      ]
    },
    {
      "cell_type": "markdown",
      "metadata": {
        "id": "ysiin4gJ3JSf"
      },
      "source": [
        "Thus the ``DataFrame`` can be thought of as a generalization of a two-dimensional NumPy array, where both the rows and columns have a generalized index for accessing the data."
      ]
    },
    {
      "cell_type": "markdown",
      "metadata": {
        "id": "gi0QXlpc3JSf"
      },
      "source": [
        "### DataFrame as specialized dictionary\n",
        "\n",
        "Similarly, we can also think of a ``DataFrame`` as a specialization of a dictionary.\n",
        "Where a dictionary maps a key to a value, a ``DataFrame`` maps a column name to a ``Series`` of column data.\n",
        "For example, asking for the ``'area'`` attribute returns the ``Series`` object containing the areas we saw earlier:"
      ]
    },
    {
      "cell_type": "code",
      "execution_count": null,
      "metadata": {
        "id": "e90QPuqi3JSf"
      },
      "outputs": [],
      "source": [
        "states['area']"
      ]
    },
    {
      "cell_type": "markdown",
      "metadata": {
        "id": "cBvwlj9m3JSf"
      },
      "source": [
        "Notice the potential point of confusion here: in a two-dimesnional NumPy array, ``data[0]`` will return the first *row*. For a ``DataFrame``, ``data['col0']`` will return the first *column*.\n",
        "Because of this, it is probably better to think about ``DataFrame``s as generalized dictionaries rather than generalized arrays."
      ]
    },
    {
      "cell_type": "markdown",
      "metadata": {
        "id": "Y7lZgEyo3JSg"
      },
      "source": [
        "### Constructing DataFrame objects\n",
        "\n",
        "A Pandas ``DataFrame`` can be constructed in a variety of ways.\n",
        "Here we'll give several examples."
      ]
    },
    {
      "cell_type": "markdown",
      "metadata": {
        "id": "tkGB8XhF3JSg"
      },
      "source": [
        "#### From a single Series object\n",
        "A ``DataFrame`` is a collection of ``Series`` objects, and a single-column ``DataFrame`` can be constructed from a single ``Series``:"
      ]
    },
    {
      "cell_type": "code",
      "execution_count": null,
      "metadata": {
        "id": "C-9ISQPl3JSg",
        "outputId": "1ce44b73-effb-4ec1-900f-02e59769c6f8"
      },
      "outputs": [
        {
          "data": {
            "text/html": [
              "<div>\n",
              "<table border=\"1\" class=\"dataframe\">\n",
              "  <thead>\n",
              "    <tr style=\"text-align: right;\">\n",
              "      <th></th>\n",
              "      <th>population</th>\n",
              "    </tr>\n",
              "  </thead>\n",
              "  <tbody>\n",
              "    <tr>\n",
              "      <th>California</th>\n",
              "      <td>38332521</td>\n",
              "    </tr>\n",
              "    <tr>\n",
              "      <th>Florida</th>\n",
              "      <td>19552860</td>\n",
              "    </tr>\n",
              "    <tr>\n",
              "      <th>Illinois</th>\n",
              "      <td>12882135</td>\n",
              "    </tr>\n",
              "    <tr>\n",
              "      <th>New York</th>\n",
              "      <td>19651127</td>\n",
              "    </tr>\n",
              "    <tr>\n",
              "      <th>Texas</th>\n",
              "      <td>26448193</td>\n",
              "    </tr>\n",
              "  </tbody>\n",
              "</table>\n",
              "</div>"
            ],
            "text/plain": [
              "            population\n",
              "California    38332521\n",
              "Florida       19552860\n",
              "Illinois      12882135\n",
              "New York      19651127\n",
              "Texas         26448193"
            ]
          },
          "execution_count": 23,
          "metadata": {},
          "output_type": "execute_result"
        }
      ],
      "source": [
        "pd.DataFrame(population, columns=['population'])"
      ]
    },
    {
      "cell_type": "markdown",
      "metadata": {
        "id": "RVL_qFOT3JSg"
      },
      "source": [
        "#### [2] From a dictionary of Series objects\n",
        "\n",
        "As we saw before, a ``DataFrame`` can be constructed from a dictionary of ``Series`` objects as well:"
      ]
    },
    {
      "cell_type": "code",
      "execution_count": null,
      "metadata": {
        "id": "-mGnfxwS3JSg",
        "outputId": "d0020533-39ec-416f-99f2-8a2965ed2c9c"
      },
      "outputs": [
        {
          "data": {
            "text/html": [
              "<div>\n",
              "<table border=\"1\" class=\"dataframe\">\n",
              "  <thead>\n",
              "    <tr style=\"text-align: right;\">\n",
              "      <th></th>\n",
              "      <th>area</th>\n",
              "      <th>population</th>\n",
              "    </tr>\n",
              "  </thead>\n",
              "  <tbody>\n",
              "    <tr>\n",
              "      <th>California</th>\n",
              "      <td>423967</td>\n",
              "      <td>38332521</td>\n",
              "    </tr>\n",
              "    <tr>\n",
              "      <th>Florida</th>\n",
              "      <td>170312</td>\n",
              "      <td>19552860</td>\n",
              "    </tr>\n",
              "    <tr>\n",
              "      <th>Illinois</th>\n",
              "      <td>149995</td>\n",
              "      <td>12882135</td>\n",
              "    </tr>\n",
              "    <tr>\n",
              "      <th>New York</th>\n",
              "      <td>141297</td>\n",
              "      <td>19651127</td>\n",
              "    </tr>\n",
              "    <tr>\n",
              "      <th>Texas</th>\n",
              "      <td>695662</td>\n",
              "      <td>26448193</td>\n",
              "    </tr>\n",
              "  </tbody>\n",
              "</table>\n",
              "</div>"
            ],
            "text/plain": [
              "              area  population\n",
              "California  423967    38332521\n",
              "Florida     170312    19552860\n",
              "Illinois    149995    12882135\n",
              "New York    141297    19651127\n",
              "Texas       695662    26448193"
            ]
          },
          "execution_count": 26,
          "metadata": {},
          "output_type": "execute_result"
        }
      ],
      "source": [
        "states = pd.DataFrame({'population': population,'area': area})\n",
        ""
      ]
    },
    {
      "cell_type": "markdown",
      "metadata": {
        "id": "gmTvre4u3JSh"
      },
      "source": [
        "#### [3] From a two-dimensional NumPy array\n",
        "\n",
        "Given a two-dimensional array of data, we can create a ``DataFrame`` with any specified column and index names.\n",
        "If omitted, an integer index will be used for each:"
      ]
    },
    {
      "cell_type": "code",
      "execution_count": null,
      "metadata": {
        "id": "m1vq876C3JSh",
        "outputId": "e239e03f-300a-4bcf-a4ab-8e03d6f30cb5"
      },
      "outputs": [
        {
          "data": {
            "text/html": [
              "<div>\n",
              "<table border=\"1\" class=\"dataframe\">\n",
              "  <thead>\n",
              "    <tr style=\"text-align: right;\">\n",
              "      <th></th>\n",
              "      <th>foo</th>\n",
              "      <th>bar</th>\n",
              "    </tr>\n",
              "  </thead>\n",
              "  <tbody>\n",
              "    <tr>\n",
              "      <th>a</th>\n",
              "      <td>0.865257</td>\n",
              "      <td>0.213169</td>\n",
              "    </tr>\n",
              "    <tr>\n",
              "      <th>b</th>\n",
              "      <td>0.442759</td>\n",
              "      <td>0.108267</td>\n",
              "    </tr>\n",
              "    <tr>\n",
              "      <th>c</th>\n",
              "      <td>0.047110</td>\n",
              "      <td>0.905718</td>\n",
              "    </tr>\n",
              "  </tbody>\n",
              "</table>\n",
              "</div>"
            ],
            "text/plain": [
              "        foo       bar\n",
              "a  0.865257  0.213169\n",
              "b  0.442759  0.108267\n",
              "c  0.047110  0.905718"
            ]
          },
          "execution_count": 27,
          "metadata": {},
          "output_type": "execute_result"
        }
      ],
      "source": [
        "pd.DataFrame(np.random.rand(3, 2), columns=['foo', 'bar'], index=['a', 'b', 'c'])"
      ]
    },
    {
      "cell_type": "markdown",
      "metadata": {
        "id": "xUPC9ZGN3JSh"
      },
      "source": [
        "## TASK\n",
        "\n",
        "Create a dataframe 2 different ways, based on the 2nd and 3rd options described above. Both dataframes should be identical. Each one should have 2 columns, weight and age. The rows represent pets seen by a veterinarian.  Use the pets' names as the keys (indices).\n",
        "\n",
        "             weight   age\n",
        "\n",
        "Mittens   $~~~~~~~$ 13 $~~~~~~~$   2\n",
        "\n",
        "Fluffy    $~~~~~~~~~$ 11 $~~~~~~~~$   5\n",
        "\n",
        "Spot        $~~~~~~~~~~$ 8 $~~~~~~~~~~$    7\n",
        "\n"
      ]
    },
    {
      "cell_type": "code",
      "execution_count": null,
      "metadata": {
        "id": "D5CshUDALGrI",
        "outputId": "55dd84e2-89d5-44d8-f4ed-8cfab7e7a96a"
      },
      "outputs": [
        {
          "name": "stdout",
          "output_type": "stream",
          "text": [
            "10.666666666666666\n",
            "4.666666666666667\n",
            "weight    10.666667\n",
            "age        4.666667\n",
            "dtype: float64\n"
          ]
        },
        {
          "data": {
            "text/html": [
              "<div>\n",
              "<style scoped>\n",
              "    .dataframe tbody tr th:only-of-type {\n",
              "        vertical-align: middle;\n",
              "    }\n",
              "\n",
              "    .dataframe tbody tr th {\n",
              "        vertical-align: top;\n",
              "    }\n",
              "\n",
              "    .dataframe thead th {\n",
              "        text-align: right;\n",
              "    }\n",
              "</style>\n",
              "<table border=\"1\" class=\"dataframe\">\n",
              "  <thead>\n",
              "    <tr style=\"text-align: right;\">\n",
              "      <th></th>\n",
              "      <th>weight</th>\n",
              "      <th>age</th>\n",
              "    </tr>\n",
              "  </thead>\n",
              "  <tbody>\n",
              "    <tr>\n",
              "      <th>Mittens</th>\n",
              "      <td>13</td>\n",
              "      <td>2</td>\n",
              "    </tr>\n",
              "    <tr>\n",
              "      <th>Fluffy</th>\n",
              "      <td>11</td>\n",
              "      <td>5</td>\n",
              "    </tr>\n",
              "    <tr>\n",
              "      <th>Spot</th>\n",
              "      <td>8</td>\n",
              "      <td>7</td>\n",
              "    </tr>\n",
              "  </tbody>\n",
              "</table>\n",
              "</div>"
            ],
            "text/plain": [
              "         weight  age\n",
              "Mittens      13    2\n",
              "Fluffy       11    5\n",
              "Spot          8    7"
            ]
          },
          "execution_count": 16,
          "metadata": {},
          "output_type": "execute_result"
        }
      ],
      "source": [
        "\n",
        "# Method 2: DICTIONARY OF SERIES OBJECTS\n",
        "\n",
        "# Method 3: NUMPY ARRAY\n",
        "# here is some sample code:   np.array([[5, 6], [7, 8]])\n",
        "# I suggest printing out the array before putting it into a dataframe to check the shape"
      ]
    },
    {
      "cell_type": "markdown",
      "metadata": {
        "id": "jGzsCNMZ3JSh"
      },
      "source": [
        "## The Pandas Index Object\n",
        "\n",
        "We have seen here that both the ``Series`` and ``DataFrame`` objects contain an explicit *index* that lets you reference and modify data.\n",
        "This ``Index`` object is an interesting structure in itself, and it can be thought of either as an *immutable array* or as an *ordered set* (technically a multi-set, as ``Index`` objects may contain repeated values).\n",
        "Those views have some interesting consequences in the operations available on ``Index`` objects.\n",
        "As a simple example, let's construct an ``Index`` from a list of integers:"
      ]
    },
    {
      "cell_type": "code",
      "execution_count": null,
      "metadata": {
        "id": "4uNypnLp3JSh",
        "outputId": "128a6c0c-1180-400e-aa88-c639580f6d33"
      },
      "outputs": [
        {
          "data": {
            "text/plain": [
              "Int64Index([2, 3, 5, 7, 11], dtype='int64')"
            ]
          },
          "execution_count": 30,
          "metadata": {},
          "output_type": "execute_result"
        }
      ],
      "source": [
        "ind = pd.Index([2, 3, 5, 7, 11])\n",
        "ind"
      ]
    },
    {
      "cell_type": "markdown",
      "metadata": {
        "id": "GG-ERhGs3JSi"
      },
      "source": [
        "### Index as immutable array\n",
        "\n",
        "The ``Index`` in many ways operates like an array.\n",
        "For example, we can use standard Python indexing notation to retrieve values or slices:"
      ]
    },
    {
      "cell_type": "code",
      "execution_count": null,
      "metadata": {
        "id": "KdT8-fer3JSi",
        "outputId": "00ed247c-ec33-48b5-affb-0d38c97dd359"
      },
      "outputs": [
        {
          "data": {
            "text/plain": [
              "3"
            ]
          },
          "execution_count": 31,
          "metadata": {},
          "output_type": "execute_result"
        }
      ],
      "source": [
        "ind[1]"
      ]
    },
    {
      "cell_type": "markdown",
      "metadata": {
        "id": "dRQbPmfx3JSi"
      },
      "source": [
        "One difference between ``Index`` objects and NumPy arrays is that indices are immutable–that is, they cannot be modified via the normal means:"
      ]
    },
    {
      "cell_type": "code",
      "execution_count": null,
      "metadata": {
        "id": "FrY8Y7co3JSi"
      },
      "outputs": [],
      "source": [
        "ind[1] = 0   #THIS WILL CAUSE AN ERROR; you cannot mutate it this way."
      ]
    },
    {
      "cell_type": "markdown",
      "metadata": {
        "id": "FESpyQ-D3JSi"
      },
      "source": [
        "This immutability makes it safer to share indices between multiple ``DataFrame``s and arrays, without the potential for side effects from inadvertent index modification."
      ]
    },
    {
      "cell_type": "markdown",
      "metadata": {
        "id": "oIDg23_jLGrK"
      },
      "source": [
        "Before we continue, we need to remember how sets work. Sets are initialized with elements in curly brackets, or with the set() starter:\n",
        "\n",
        "my_set = set()\n",
        "\n",
        "my_set = {2,6,3,2}\n",
        "\n",
        "You can add elements to a set using .update().  \n",
        "\n",
        "We can compare two sets to see if they have elements in common. This operation is called an intersection, and is accomplished with the symbol &, such as  A&B.\n",
        "\n",
        "\n",
        "\n",
        "\n",
        "We can also combine two sets, collecting all the elements in each. This is called a union, and is accomplished with a | symbol, such as A|B.\n",
        "\n",
        "\n",
        "## TASK\n",
        "\n",
        " Create two sets, setA and setB.  Put a bunch of integers in each one, but create some differences between the two lists. Explore the meaning of intersection and unions.  "
      ]
    },
    {
      "cell_type": "code",
      "execution_count": null,
      "metadata": {
        "id": "h3wKTsBHLGrK",
        "outputId": "a5f915f4-c138-4705-cf17-ab5737d49382"
      },
      "outputs": [
        {
          "name": "stdout",
          "output_type": "stream",
          "text": [
            "{0, 1, 2, 3, 6}\n"
          ]
        }
      ],
      "source": [
        "setA = {2,6,3,1}\n",
        "setB =  {2,0,3,1}   #add some more to this\n",
        "\n",
        "# Try a union.\n",
        "print(setB | setA)\n",
        "# Now try intersection: What does intersection do?  -YOUR CODE HERE"
      ]
    },
    {
      "cell_type": "markdown",
      "metadata": {
        "id": "YQ1P8lFc3JSj"
      },
      "source": [
        "### Index as ordered set\n",
        "\n",
        "Pandas objects are designed to facilitate operations such as joins across datasets.\n",
        "The ``Index`` object follows many of the conventions used by Python's built-in ``set`` data structure, so that unions, intersections, differences, and other combinations can be computed:"
      ]
    },
    {
      "cell_type": "code",
      "execution_count": null,
      "metadata": {
        "id": "o0V0WpLp3JSj"
      },
      "outputs": [],
      "source": [
        "indA = pd.Index([1, 3, 5, 7, 9])\n",
        "indB = pd.Index([2, 3, 5, 7, 11])"
      ]
    },
    {
      "cell_type": "code",
      "execution_count": null,
      "metadata": {
        "id": "PM_Uvapk3JSj",
        "outputId": "a058cfc9-a81c-4cb1-9860-172f0b7e4ea6"
      },
      "outputs": [
        {
          "name": "stdout",
          "output_type": "stream",
          "text": [
            "intersection:  Int64Index([3, 5, 7], dtype='int64')\n",
            "union:  Int64Index([1, 2, 3, 5, 7, 9, 11], dtype='int64')\n"
          ]
        }
      ],
      "source": [
        "print(\"intersection: \", indA.intersection(indB))\n",
        "print(\"union: \", indA.union(indB))"
      ]
    },
    {
      "cell_type": "markdown",
      "metadata": {
        "id": "8Q2jGet7LGrK"
      },
      "source": [
        "## TASK\n",
        "\n",
        "Make two Index objects, like the ones above. Choose the elements so that the union comes out to be this:\n",
        "[3,4,5,6,7,8,9]\n",
        "But make the intersection come out to be this:\n",
        "[5,6]"
      ]
    },
    {
      "cell_type": "code",
      "execution_count": null,
      "metadata": {
        "id": "FQmDf1itLGrL"
      },
      "outputs": [],
      "source": [
        "# Your code here; use pd.Index format"
      ]
    }
  ],
  "metadata": {
    "anaconda-cloud": {},
    "colab": {
      "provenance": [],
      "include_colab_link": true
    },
    "kernelspec": {
      "display_name": "Python 3",
      "language": "python",
      "name": "python3"
    },
    "language_info": {
      "codemirror_mode": {
        "name": "ipython",
        "version": 3
      },
      "file_extension": ".py",
      "mimetype": "text/x-python",
      "name": "python",
      "nbconvert_exporter": "python",
      "pygments_lexer": "ipython3",
      "version": "3.10.4"
    },
    "vscode": {
      "interpreter": {
        "hash": "26de051ba29f2982a8de78e945f0abaf191376122a1563185a90213a26c5da77"
      }
    }
  },
  "nbformat": 4,
  "nbformat_minor": 0
}