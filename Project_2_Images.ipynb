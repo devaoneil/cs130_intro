{
  "cells": [
    {
      "cell_type": "markdown",
      "metadata": {
        "id": "view-in-github",
        "colab_type": "text"
      },
      "source": [
        "<a href=\"https://colab.research.google.com/github/devaoneil/cs130_intro/blob/main/Project_2_Images.ipynb\" target=\"_parent\"><img src=\"https://colab.research.google.com/assets/colab-badge.svg\" alt=\"Open In Colab\"/></a>"
      ]
    },
    {
      "cell_type": "markdown",
      "source": [
        "#Project 2: Image manipulation and compression\n",
        "Before starting this project, please download the eagles image from the Canvas assignment. You can leave it in your downloads folder.\n",
        "## Run this first:"
      ],
      "metadata": {
        "id": "roJfLra-Qa8P"
      }
    },
    {
      "cell_type": "code",
      "execution_count": null,
      "metadata": {
        "id": "5ThITQNAVqoK"
      },
      "outputs": [],
      "source": [
        "import matplotlib.pyplot as plt\n",
        "import numpy as np\n",
        "from numpy.linalg import svd\n",
        "from PIL import Image\n",
        "import random"
      ]
    },
    {
      "cell_type": "markdown",
      "metadata": {
        "id": "yqoicELAa2yt"
      },
      "source": [
        "# Image Compression"
      ]
    },
    {
      "cell_type": "markdown",
      "metadata": {
        "id": "50hEkXWhnibG"
      },
      "source": [
        "In this activity, our goal will be to see if we can represent an image (the BC Eagles logo) using fewer pieces of information than what are in the original image.\n",
        "The parameter k will represent the rank of the compressed matrix.\n",
        "\n",
        "Run the code block above to get started.\n",
        "\n",
        "Before running the code block below, you need to upload the image file (click the folder icon to the left to upload it from your downloads folder.) When the image is uploaded, the code below should run."
      ]
    },
    {
      "cell_type": "code",
      "source": [
        "image = Image.open('eagles.png')  #TODO: upload this image from your downloads folder using the folder icon to the left.\n",
        "plt.subplots(figsize=(2, 2))      # chooses size of plot\n",
        "plt.axis('off')                    # turns off axis numbering\n",
        "plt.imshow(image, cmap=plt.cm.gray ) # plots the image\n",
        "im_array = np.asarray(image)    #converts it to an np array\n",
        "img = im_array[:, :, 1]         #converts it to 2D array\n",
        "height = img.shape[0]\n",
        "width = img.shape[1]"
      ],
      "metadata": {
        "id": "qSxJd0wL49EA"
      },
      "execution_count": null,
      "outputs": []
    },
    {
      "cell_type": "markdown",
      "source": [
        "Run every code block in order. Some need you to fill in some information."
      ],
      "metadata": {
        "id": "khBLTEFpEO9i"
      }
    },
    {
      "cell_type": "code",
      "source": [
        "#write a function that takes in the height and width of an image and outputs how many elements are in the array.\n",
        "#This will indicate how many pieces of information it takes to represent the image.\n",
        "def elements(h, w):\n",
        "  return    ## TODO: fill this in"
      ],
      "metadata": {
        "id": "S8NOF14-_AjG"
      },
      "execution_count": null,
      "outputs": []
    },
    {
      "cell_type": "code",
      "execution_count": null,
      "metadata": {
        "id": "_kqdAisza2yu"
      },
      "outputs": [],
      "source": [
        "%pip install -U ipytest\n",
        "import ipytest\n",
        "ipytest.autoconfig()"
      ]
    },
    {
      "cell_type": "markdown",
      "source": [
        "Use this code to check that your elements function works properly:"
      ],
      "metadata": {
        "id": "d9O5hVSm_jIP"
      }
    },
    {
      "cell_type": "code",
      "source": [
        "%%ipytest\n",
        "def test_elements():   #test harness for elements()\n",
        "    h,w = 10,20\n",
        "    assert elements(h,w) == 200\n",
        "    h,w = 200,100\n",
        "    assert elements(h,w) == 20000"
      ],
      "metadata": {
        "id": "2i3aadgd_iwu"
      },
      "execution_count": null,
      "outputs": []
    },
    {
      "cell_type": "markdown",
      "source": [
        "## Array Slicing Practice\n",
        "Fill in the array slicing for the variable sliced_image to show only the top half of the image. To figure out how many rows or columns are in the array, I've printed the height and width."
      ],
      "metadata": {
        "id": "UrL00BYNET-z"
      }
    },
    {
      "cell_type": "code",
      "source": [
        "height, width"
      ],
      "metadata": {
        "colab": {
          "base_uri": "https://localhost:8080/"
        },
        "id": "TkFx5HdwEmrV",
        "outputId": "9938f666-3001-45bd-b394-4875512f7b9b"
      },
      "execution_count": null,
      "outputs": [
        {
          "output_type": "execute_result",
          "data": {
            "text/plain": [
              "(505, 732)"
            ]
          },
          "metadata": {},
          "execution_count": 98
        }
      ]
    },
    {
      "cell_type": "code",
      "execution_count": null,
      "metadata": {
        "id": "i-gvo5FRng2s"
      },
      "outputs": [],
      "source": [
        "plt.subplots(figsize=(2, 2))            # choose size of plot\n",
        "plt.axis('off')                         # turn off axis numbering\n",
        "sliced_image = img[ , ]  #TODO: you fill this in\n",
        "plt.imshow(sliced_image, cmap=plt.cm.gray )   # plot the image\n"
      ]
    },
    {
      "cell_type": "markdown",
      "source": [
        "Check that you see only the eagle's head, no text."
      ],
      "metadata": {
        "id": "c2WRsOInEu-o"
      }
    },
    {
      "cell_type": "markdown",
      "metadata": {
        "id": "KuTaUxZZin0D"
      },
      "source": [
        "(a) The code above should generate an image.  \n",
        "\n",
        "When satisfied, please run the code chunk below to prepare for the next section."
      ]
    },
    {
      "cell_type": "markdown",
      "metadata": {
        "id": "NXI33MBGa2yu"
      },
      "source": [
        "\n",
        "\n",
        "## Matrix Reconstruction\n",
        "\n",
        "We are now going to represent each faces matrix in a compressed way. Recall that we can take the full matrix, represented this way:\n",
        "\n",
        "$$ M = U S V^T,$$\n",
        "\n",
        "But we will slice off parts of these matrices to keep only the most important parts.  This produces smaller matrices, U', S' and V':\n",
        "\n",
        "$$ M = U' S' V'^T. ~~~~(approximately)$$\n",
        "\n",
        "This allows M to be represented in a compressed way, but you'll find that if you slice off too much of each matrix, the reconstructed image won't be a good match to the original.\n",
        "\n",
        "(b) Fill in the blanks to achieve the following slicing:\n",
        "\n",
        "In S, keep the top k rows and top k columns\n",
        "\n",
        "In U, keep all the rows and only the top k columns\n",
        "\n",
        "In V, keep all the columns and only the top k rows"
      ]
    },
    {
      "cell_type": "code",
      "execution_count": null,
      "metadata": {
        "id": "6cPwx_gWVqoO"
      },
      "outputs": [],
      "source": [
        "%%ipytest\n",
        "# Returns the best rank-k approximation to M\n",
        "def reconstruct(M, k):\n",
        "    U, S_values, V = np.linalg.svd(M, full_matrices=False)\n",
        "    S = np.diag(S_values)\n",
        "    Sprime = S[0:k, 0:k]\n",
        "    Uprime = U[:,0:k]\n",
        "    Vprime = V[  ,  ]    #TODO: Please fix this to keep all columns but only the first k rows.\n",
        "    elements_in_U = elements(Uprime.shape[0], Uprime.shape[1])\n",
        "    elements_in_S = elements(Sprime.shape[0], Sprime.shape[1])\n",
        "    elements_in_V = elements(Vprime.shape[0], Vprime.shape[1])\n",
        "    total_elements = elements_in_U + elements_in_S + elements_in_V\n",
        "    return np.dot(np.dot(Uprime,Sprime),Vprime), total_elements #approximation of M\n",
        "\n",
        "def test_slicing():\n",
        "  m = np.matrix('1 2 3; 3 4 5; 6 7 8') # matrix for testing purposes\n",
        "  m_reconstructed = reconstruct(m,1)[0] # call the reconstruction function with k = 1\n",
        "  m_correct_result = np.matrix('1.68331528 2.07660348 2.46989168; 3.26667312 4.02989556 4.79311799;5.64170987 6.95983366 8.27795746')\n",
        "  print(m_reconstructed)\n",
        "  assert np.allclose(m_reconstructed, m_correct_result)"
      ]
    },
    {
      "cell_type": "markdown",
      "metadata": {
        "id": "EKfrcwtQkm68"
      },
      "source": [
        "You should see \"1 passed \" as the result of running the code above. If your slicing is incorrect, the pytest will tell you that the assertion failed, or you'll get some other error. When your function definition passes the test, continue.\n",
        "\n",
        "The following test uses a larger matrix. With k = 6, the reconstruction should be so similar to the original matrix that it should pass this unit test. If it doesn't, please fix your code for \"def reconstruct(M, k).\"  "
      ]
    },
    {
      "cell_type": "code",
      "execution_count": null,
      "metadata": {
        "id": "ou3k3TgqcSMU"
      },
      "outputs": [],
      "source": [
        "%%ipytest\n",
        "# Don't change anything in this code block\n",
        "def test_reconstruction():  # tests definition of reconstruct()\n",
        "  random.seed(10)\n",
        "  test_matrix = np.random.randn(9, 6)\n",
        "  k = 6\n",
        "  # check that matrices are almost identical\n",
        "  assert np.allclose(test_matrix, reconstruct(test_matrix,k)[0])\n"
      ]
    },
    {
      "cell_type": "markdown",
      "metadata": {
        "id": "BFrvB4F0gtBP"
      },
      "source": [
        "\n",
        "\n",
        "(c) At this point, your code should have successfully passed these tests."
      ]
    },
    {
      "cell_type": "markdown",
      "metadata": {
        "id": "CB0ewAx_ppKt"
      },
      "source": [
        "The following code compresses the image by representing it using rank k matrices."
      ]
    },
    {
      "cell_type": "code",
      "execution_count": null,
      "metadata": {
        "id": "VJH0JmNEa2yv"
      },
      "outputs": [],
      "source": [
        "reconstructed_list = [img]\n",
        "k_list = [0]\n",
        "n_list=[0]\n",
        "print(\"Number of elements in original:\", elements(height, width))\n",
        "for k in range(2,8,2): #TODO: you can change this range (in a new code chunk)\n",
        "    M = img#select the image\n",
        "    A, n_elements = reconstruct(M,k) #reconstruct the image\n",
        "    reconstructed_list.append(A)\n",
        "    k_list.append(k)\n",
        "    n_list.append(n_elements)\n",
        "n_images = len(reconstructed_list) #includes the original as the first one\n",
        "\n",
        "#plot the resulting images\n",
        "plt.figure(figsize=(12, 12))\n",
        "for k in range(len(k_list)):\n",
        "    ax = plt.subplot(1,n_images,k+1)\n",
        "    plt.axis('off') # turn off axis numbering\n",
        "    plt.imshow(reconstructed_list[k], cmap=plt.cm.gray)\n",
        "    if k>0:\n",
        "      ax.set_title(f\"k={k_list[k]}, n ={n_list[k]}\")\n",
        "    if k==0: ax.set_title(\"Original\")"
      ]
    },
    {
      "cell_type": "markdown",
      "metadata": {
        "id": "vcbFNQj5gq0a"
      },
      "source": [
        "Notice that this appears in the code:\n",
        "range(2,8,2)\n",
        "\n",
        "This means, \"start with k = 2, go up in steps of 2 and stop before you hit 8.\"  Copy-paste the entire code block into a new code chunk below so we can try a different range but retain the images you've already generated. Change the range so that it starts at k = 2, goes up in steps of 5, and the last image is k = 22. Make sure that k = 22 is included."
      ]
    },
    {
      "cell_type": "code",
      "source": [
        "#insert your code block here."
      ],
      "metadata": {
        "id": "FYHyMiiRGyIg"
      },
      "execution_count": null,
      "outputs": []
    },
    {
      "cell_type": "markdown",
      "source": [
        "The original matrix has 369660 elements. Your compressed images show how many elements are in them in the plot title. n = 2478 means that the compressed image has many fewer elements than the original. However, the compressed images come out gray and fuzzy, maybe because the original image is black and white, not grayscale. Let's grab the last image and see if we can improve the contrast."
      ],
      "metadata": {
        "id": "o3Gply1nG215"
      }
    },
    {
      "cell_type": "code",
      "source": [
        " #grab the last reconstructed image\n",
        "M = reconstructed_list[-1]\n",
        "plt.subplots(figsize=(2, 2)) # choose size of plot\n",
        "plt.axis('off') # turn off axis numbering\n",
        "plt.imshow(M, cmap=plt.cm.gray ) # plot the image"
      ],
      "metadata": {
        "id": "92cmj5sBCXug"
      },
      "execution_count": null,
      "outputs": []
    },
    {
      "cell_type": "markdown",
      "source": [
        "Let's go through the image pixel by pixel. A white pixel has the value 255. A black pixel has the value 0. Set a threshold so that any pixel value above a certain value will just be turned white, and any pixel below the value will be turned black. I've provided sample code below, but you need to change the threshold value to something better."
      ],
      "metadata": {
        "id": "vYh02XjXHdjo"
      }
    },
    {
      "cell_type": "code",
      "execution_count": null,
      "metadata": {
        "id": "gG1DMZsJhgmp"
      },
      "outputs": [],
      "source": [
        "M_modified = np.zeros(M.shape)\n",
        "\n",
        "compressed_height  = M.shape[0]\n",
        "compressed_width = M.shape[1]\n",
        "for i in range(compressed_height):  #goes through every row\n",
        "  for j in range(compressed_width):#goes through every column\n",
        "    if M[i][j] > 5:   #TODO: change this\n",
        "      M_modified[i][j] = 255  #changes it to white\n",
        "    else:\n",
        "      M_modified[i][j] = 0   #changes it to black\n",
        "plt.subplots(figsize=(2, 2)) # chooses size of plot\n",
        "plt.axis('off') # turns off axis numbering\n",
        "plt.imshow(M_modified, cmap=plt.cm.gray ) # plots the modified image"
      ]
    },
    {
      "cell_type": "markdown",
      "source": [
        "Let's write a function to calculate the percent by which an image is compressed. It should take in init_elements and final_elements as input, where init_elements is the initial (uncompressed) number of elements (in this case, the number of pixels), and final_elements is the final number of elements. It should return the percentage by which is compressed.\n",
        "\n",
        "For example, if you compress 500 pixels into 200 pixels, the compression is 300/500 which is the same as 0.6, or 60%. The function should return 60 (a float).\n",
        "\n",
        "If you compress 100 pixels into 10 pixels, then the compression is 90/100, which is 0.9 or 90%. The function should return 90."
      ],
      "metadata": {
        "id": "Rzu3H8fvgcs4"
      }
    },
    {
      "cell_type": "code",
      "source": [
        "def compression_percentage(init_elements, final_elements):\n",
        "  return   #TODO: fill this in"
      ],
      "metadata": {
        "id": "dlN1Sh6oh-qe"
      },
      "execution_count": null,
      "outputs": []
    },
    {
      "cell_type": "code",
      "source": [
        "%%ipytest\n",
        "def test_compression():  # tests definition of compression_percentage()\n",
        "  init_elements = 100\n",
        "  final_elements = 40\n",
        "  assert compression_percentage(init_elements, final_elements) == 60\n",
        "  init_elements = 10\n",
        "  final_elements = 1\n",
        "  assert compression_percentage(init_elements, final_elements) == 90\n",
        "  init_elements = 1000\n",
        "  final_elements = 100\n",
        "  assert compression_percentage(init_elements, final_elements) == 90\n"
      ],
      "metadata": {
        "id": "0Z26a5IbiErW"
      },
      "execution_count": null,
      "outputs": []
    },
    {
      "cell_type": "markdown",
      "source": [
        "Write a program below that uses the function you defined (compression_percentage) to calculate the percentage for the last image. Your output should be a printed statement such as \"The image was compressed by 45%.\"\n",
        "\n",
        "Hint: the program already recognizes the height and width of the last compressed image; these variables have been saved as compressed_height and compressed_width. Use these variables to calculate the final number of elements. Use the variables height and width (already known) to calculate the initial number of elements."
      ],
      "metadata": {
        "id": "8ixcPJu8id39"
      }
    },
    {
      "cell_type": "code",
      "source": [
        "# your code goes here:\n",
        "\n",
        "# calculate final number of elements  (use the function elements() you defined earlier)\n",
        "\n",
        "# calculate initial number of elements (use the function elements() you defined earlier)\n",
        "\n",
        "# use the function compression_percentage to print out the answer,\n",
        "percentage =\n",
        "print(\"The image was compressed by \", percentage, \"%.\")"
      ],
      "metadata": {
        "id": "a1CFibCcinv9"
      },
      "execution_count": null,
      "outputs": []
    }
  ],
  "metadata": {
    "colab": {
      "provenance": [],
      "include_colab_link": true
    },
    "kernelspec": {
      "display_name": "Python 3 (ipykernel)",
      "language": "python",
      "name": "python3"
    },
    "language_info": {
      "codemirror_mode": {
        "name": "ipython",
        "version": 3
      },
      "file_extension": ".py",
      "mimetype": "text/x-python",
      "name": "python",
      "nbconvert_exporter": "python",
      "pygments_lexer": "ipython3",
      "version": "3.9.7"
    }
  },
  "nbformat": 4,
  "nbformat_minor": 0
}